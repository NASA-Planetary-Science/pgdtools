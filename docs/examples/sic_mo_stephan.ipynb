{
 "cells": [
  {
   "metadata": {},
   "cell_type": "markdown",
   "source": [
    "[Stephan et al. (2019)](https://doi.org/10.3847/1538-4357/ab1c60) analyzed Mo isotopic compositions of multiple SiC grains.\n",
    "Linear regressions were then used to study *s*-process nucleosynthesis.\n",
    "\n",
    "Let us search this dataset, plot it with correlated uncertainties, and perform a linear regression.\n",
    "To plot correlated uncertainties and perform the linear regression, \n",
    "the [`CEREsFit`](https://github.com/galactic-forensics/CEREsFit/) will be used. \n",
    "More details on `CEREsFit` can be found on it's website."
   ],
   "id": "545d8719013fafc7"
  },
  {
   "metadata": {
    "ExecuteTime": {
     "end_time": "2024-07-25T10:49:06.296164Z",
     "start_time": "2024-07-25T10:49:02.260878Z"
    }
   },
   "cell_type": "code",
   "source": [
    "from ceresfit import LinReg  # to calculate linear regression\n",
    "from ceresfit.unc_calc import error_bar_positions  # to plot correlated error bars\n",
    "import matplotlib.pyplot as plt\n",
    "import numpy as np\n",
    "\n",
    "from pgdtools import pgd"
   ],
   "id": "93c741ab660e192f",
   "outputs": [],
   "execution_count": 1
  },
  {
   "metadata": {},
   "cell_type": "markdown",
   "source": [
    "## Filter the data\n",
    "\n",
    "We now want to filter out the Stephan et al. (2019) dataset from the PGD database.\n",
    "We first search for the right reference and will then filter out the data.\n",
    "Finally, we will see what kind of grain types are in there, and filter further if needed."
   ],
   "id": "10943aa8cd25a97d"
  },
  {
   "metadata": {
    "ExecuteTime": {
     "end_time": "2024-07-25T10:50:55.608839Z",
     "start_time": "2024-07-25T10:50:55.587904Z"
    }
   },
   "cell_type": "code",
   "source": "ref = pgd.reference.search(\"Stephan, 2019\")",
   "id": "2899e703e0b1244f",
   "outputs": [
    {
     "name": "stdout",
     "output_type": "stream",
     "text": [
      "References found:\n",
      "- Liu et al. (2019) ApJ 881:28\n",
      "- Stephan et al. (2019) ApJ 877:101\n"
     ]
    },
    {
     "data": {
      "text/plain": [
       "['Liu et al. (2019) ApJ 881:28', 'Stephan et al. (2019) ApJ 877:101']"
      ]
     },
     "execution_count": 3,
     "metadata": {},
     "output_type": "execute_result"
    }
   ],
   "execution_count": 3
  },
  {
   "metadata": {
    "ExecuteTime": {
     "end_time": "2024-07-25T10:51:43.489659Z",
     "start_time": "2024-07-25T10:51:43.473075Z"
    }
   },
   "cell_type": "code",
   "source": [
    "# So we only want the Stephan reference, let's filter additionally for the 877:101\n",
    "ref = pgd.reference.search(\"Stephan, 2019, 877:101\")"
   ],
   "id": "56eb96f8888a4fcd",
   "outputs": [
    {
     "name": "stdout",
     "output_type": "stream",
     "text": [
      "References found:\n",
      "- Stephan et al. (2019) ApJ 877:101\n"
     ]
    }
   ],
   "execution_count": 5
  },
  {
   "metadata": {
    "ExecuteTime": {
     "end_time": "2024-07-25T10:52:20.209023Z",
     "start_time": "2024-07-25T10:52:20.201904Z"
    }
   },
   "cell_type": "code",
   "source": [
    "pgd.filter.reference(ref)\n",
    "\n",
    "# show the grain types that are available\n",
    "pgd.info.number_of_grains\n",
    "pgd.info.pgd_types;"
   ],
   "id": "b6c26ca59cca1794",
   "outputs": [
    {
     "name": "stdout",
     "output_type": "stream",
     "text": [
      "Number of grains in current selection: 18\n",
      "Currently available PGD types in filtered database:\n",
      "- M\n",
      "- AB\n"
     ]
    }
   ],
   "execution_count": 6
  },
  {
   "metadata": {},
   "cell_type": "markdown",
   "source": [
    "So it looks like we only have mainstream and AB data in here.\n",
    "\n",
    "## Plot the data with correlated uncertainties and perform a linear regression\n",
    "\n",
    "As an example, let us have a look at the δ(<sup>100</sup>Mo/<sup>96</sup>Mo) vs. δ(<sup>92</sup>Mo/<sup>96</sup>Mo) plot.\n",
    "Of course, you can download this notebook and simply replace below definitions to create any of the other plots,\n",
    "or create subplots, etc.\n",
    "\n",
    "After getting the data, we will plot them with correlated uncertainties. \n",
    "The uncertainty plotting will make use of a routine that currently exists in CEREsFit.\n",
    "We then perform a linear regression and show the results as well."
   ],
   "id": "3645209d6c746453"
  },
  {
   "metadata": {
    "ExecuteTime": {
     "end_time": "2024-07-25T11:04:03.977786Z",
     "start_time": "2024-07-25T11:04:03.960864Z"
    }
   },
   "cell_type": "code",
   "source": [
    "x_rat = (\"Mo-92\", \"Mo-96\")\n",
    "y_rat = (\"Mo-100\", \"Mo-96\")\n",
    "xdat, xunc, ydat, yunc, corr = pgd.data.ratio_xy(x_rat, y_rat, simplify_unc=True)  # let's use symmetric errors\n",
    "\n",
    "# linear regression\n",
    "reg = LinReg(xdat, xunc, ydat, yunc, rho=corr)"
   ],
   "id": "5443b7f5f4618bf4",
   "outputs": [],
   "execution_count": 17
  },
  {
   "metadata": {
    "ExecuteTime": {
     "end_time": "2024-07-25T11:11:15.142175Z",
     "start_time": "2024-07-25T11:11:14.575948Z"
    }
   },
   "cell_type": "code",
   "source": [
    "# plot\n",
    "fig, ax = plt.subplots(1, 1)\n",
    "\n",
    "xerr, yerr = error_bar_positions(\n",
    "    xdat.to_numpy(), \n",
    "    xunc.to_numpy(), \n",
    "    ydat.to_numpy(), \n",
    "    yunc.to_numpy(), \n",
    "    corr.to_numpy()\n",
    ")\n",
    "\n",
    "ax.axhline(0, color=\"black\", linewidth=0.5, linestyle=\"--\")\n",
    "ax.axvline(0, color=\"black\", linewidth=0.5, linestyle=\"--\")\n",
    "\n",
    "ax.plot(xdat, ydat, 'o', color=\"tab:blue\", zorder=30)\n",
    "for xpos, ypos in zip(xerr, yerr):\n",
    "    ax.plot(xpos, ypos, '-', color=\"tab:blue\", linewidth=0.5, zorder=29)\n",
    "    \n",
    "# plot regression line from -1000 to 0\n",
    "ax.plot(*reg.regression_line(np.array([-1000, 0])), color=\"tab:orange\", zorder=20)\n",
    "    \n",
    "ax.set_xlabel(pgd.format.ratio(x_rat))\n",
    "ax.set_ylabel(pgd.format.ratio(y_rat))\n",
    "\n",
    "# cut plot at -1000\n",
    "ax.set_xlim(-1000)\n",
    "ax.set_ylim(-1000)\n",
    "\n",
    "ax.set_aspect(1)\n",
    "\n",
    "# finally, print the regression results\n",
    "print(f\"Slope: {reg.slope[0]:.3f} ± {reg.slope[1]:.3f}\")\n",
    "print(f\"Intercept: {reg.intercept[0]:.3f} ± {reg.intercept[1]:.3f}\")\n",
    "print(f\"MSWD: {reg.mswd:.3f}\") \n",
    "\n"
   ],
   "id": "7a146fab6ebb9e79",
   "outputs": [
    {
     "name": "stdout",
     "output_type": "stream",
     "text": [
      "Slope: 0.983 ± 0.008\n",
      "Intercept: 3.092 ± 6.814\n",
      "MSWD: 9.341\n"
     ]
    },
    {
     "data": {
      "text/plain": [
       "<Figure size 640x480 with 1 Axes>"
      ],
      "image/png": "[encoded data removed]"
     },
     "metadata": {},
     "output_type": "display_data"
    }
   ],
   "execution_count": 33
  },
  {
   "metadata": {},
   "cell_type": "markdown",
   "source": [
    "Well, the results are slightly different from Stephan et al. (2019).\n",
    "However, we here included the AB grain data and did not filter it out before applying the regression.\n",
    "If you would like to get the same results as Stephan et al. (2019), you cold do this as an exercise!\n",
    "\n",
    "- Plot Mainstream and AB data distinct from each other\n",
    "- Perform the linear regression on the Mainstream data only\n",
    "- Compare the results with Stephan et al. (2019)"
   ],
   "id": "e6041e9b8f265f04"
  }
 ],
 "metadata": {
  "kernelspec": {
   "display_name": "Python 3",
   "language": "python",
   "name": "python3"
  },
  "language_info": {
   "codemirror_mode": {
    "name": "ipython",
    "version": 2
   },
   "file_extension": ".py",
   "mimetype": "text/x-python",
   "name": "python",
   "nbconvert_exporter": "python",
   "pygments_lexer": "ipython2",
   "version": "2.7.6"
  }
 },
 "nbformat": 4,
 "nbformat_minor": 5
}
