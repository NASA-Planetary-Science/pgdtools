{
 "cells": [
  {
   "cell_type": "markdown",
   "metadata": {},
   "source": [
    "# Presolar grain plots with `pgdtools`\n",
    "This is a preview / idea gathering / development notebook to make presolar grain plots with a new python module called `pgdtools`. Currently, this module only exists as a python script and the data are in a subfolder right here named `data`. This clearly is less than ideal, however, I will update the notebook with the required installs, etc., as the module comes along.\n",
    "\n",
    "If you have any comments, questions, improvement ideas, filters, etc., please let me know! This is the planning and testing phase, so everything can be changed and adopted.\n",
    "\n",
    "The example shown here is for plotting Ru-102 as a function of Ru-104. The presolar data should be automatically processes and filtered via `pgdtools`. Model data can be processed and converted to $\\delta$-values using `iniabu`.\n",
    "\n",
    "## Imports (and Installs)\n",
    "For now only imports. `iniabu` is imported directly with abundances in mass fractions. This way we can directly use it with model data to calculate $\\delta$-values. pgdtools for now is loaded from python file in the same folder with data available there, however, at a later point will be changed to update to the latest version from github and eventually pypi."
   ]
  },
  {
   "cell_type": "code",
   "execution_count": 1,
   "metadata": {},
   "outputs": [
    {
     "name": "stdout",
     "output_type": "stream",
     "text": [
      "Really early dev version... user beware!\n"
     ]
    }
   ],
   "source": [
    "from iniabu import (\n",
    "    inimf,\n",
    ")  # iniabu module with abundances as mass fractions - for models!\n",
    "import matplotlib.pyplot as plt\n",
    "import numpy as np\n",
    "\n",
    "import pgdtools\n",
    "\n",
    "pg = pgdtools.PresolarGrains()  # will be replaced with __init__.py"
   ]
  },
  {
   "cell_type": "markdown",
   "metadata": {},
   "source": [
    "## Transfer model data to $\\delta$-values\n",
    "\n",
    "### Fake model data\n",
    "Ideally, to plot along your models, you only have to replace the next three vectors with the mass fraction results from your simulations. I assume that these models abundances are in mass fractions."
   ]
  },
  {
   "cell_type": "code",
   "execution_count": 2,
   "metadata": {},
   "outputs": [
    {
     "name": "stdout",
     "output_type": "stream",
     "text": [
      "Ru-100: 1.3230401719379447e-12\n",
      "Ru-102: 2.078270902914793e-10\n",
      "Ru-104: 4.4846890215594384e-11\n"
     ]
    }
   ],
   "source": [
    "def x_diluted(dilute, x, xini):\n",
    "    xdil = dilute * x + (1.0 - dilute) * xini\n",
    "    return xdil\n",
    "\n",
    "\n",
    "# Ru-100\n",
    "print(\"Ru-100:\", x_diluted(0.0048103, 1.85100e-13, 1.3285404636e-12))\n",
    "\n",
    "# Ru-102\n",
    "print(\"Ru-102:\", x_diluted(0.0048103, 4.25026e-08, 3.3931556079e-12))\n",
    "\n",
    "# Ru-104\n",
    "print(\"Ru-104:\", x_diluted(0.0048103, 8.90067e-09, 2.0418190769e-12))"
   ]
  },
  {
   "cell_type": "code",
   "execution_count": 3,
   "metadata": {},
   "outputs": [],
   "source": [
    "# m_ru100 = np.array([0.124, 0.125, 0.126])\n",
    "# m_ru102 = np.array([0.32, 0.28, 0.24])\n",
    "# m_ru104 = np.array([0.18, 0.1, 0.05])\n",
    "\n",
    "m_ru100 = np.array([1.32304e-12, 1.32304e-12])\n",
    "m_ru102 = np.array([2.07827e-10, 8.25611e-11])\n",
    "m_ru104 = np.array([4.48469e-11, 5.75558e-11])"
   ]
  },
  {
   "cell_type": "markdown",
   "metadata": {},
   "source": [
    "### Convert model data to $\\delta$ values, ratioed to Ru-100, using `iniabu`\n",
    "The conversion assumes by default Lodders et al. (2009) as the solar values. This can be changed if necessary."
   ]
  },
  {
   "cell_type": "code",
   "execution_count": 4,
   "metadata": {},
   "outputs": [],
   "source": [
    "dm_ru102 = inimf.iso_delta(\"Ru-102\", \"Ru-100\", m_ru102 / m_ru100)\n",
    "dm_ru104 = inimf.iso_delta(\"Ru-104\", \"Ru-100\", m_ru104 / m_ru100)"
   ]
  },
  {
   "cell_type": "markdown",
   "metadata": {},
   "source": [
    "## Get the presolar grain grain data\n",
    "\n",
    "Let's get the presolar grain data using `pgdtools`. Here we will first apply some filters to the data:\n",
    "- Select only the Ru isotopes\n",
    "- Filter for \"Savina et al., 2004\" data\n",
    "\n",
    "Then we get the plotting ratios `xdat`, `ydat`, `xerr`, and `yerr` for subsequent plotting."
   ]
  },
  {
   "cell_type": "code",
   "execution_count": 5,
   "metadata": {},
   "outputs": [],
   "source": [
    "# Filter for Mainstream and Unclassified grains (All data from Savina, Science)\n",
    "pg.filter_type([\"M\", \"U\"])\n",
    "\n",
    "# define isotopes to plot and get data from DB\n",
    "x_isos = (\"Ru-104\", \"Ru-100\")\n",
    "y_isos = (\"Ru-102\", \"Ru-100\")\n",
    "# Now grab our x and y data to plot:\n",
    "xdat, ydat, xerr, yerr = pg.return_ratios(x_isos, y_isos)"
   ]
  },
  {
   "cell_type": "markdown",
   "metadata": {},
   "source": [
    "## Create the plot"
   ]
  },
  {
   "cell_type": "code",
   "execution_count": 6,
   "metadata": {},
   "outputs": [
    {
     "data": {
      "image/png": "[encoded data removed]",
      "text/plain": "<Figure size 640x480 with 1 Axes>"
     },
     "metadata": {},
     "output_type": "display_data"
    }
   ],
   "source": [
    "fig, ax = plt.subplots(1, 1)\n",
    "\n",
    "# lines at zero\n",
    "ax.axhline(0, linestyle=\"dashed\", linewidth=0.5, color=\"k\")\n",
    "ax.axvline(0, linestyle=\"dashed\", linewidth=0.5, color=\"k\")\n",
    "\n",
    "# plot the data\n",
    "ax.errorbar(\n",
    "    xdat,\n",
    "    ydat,\n",
    "    xerr=xerr,\n",
    "    yerr=yerr,\n",
    "    fmt=\"o\",\n",
    "    mew=1.5,\n",
    "    mfc=\"w\",\n",
    "    linewidth=0.5,\n",
    "    label=\"SiC\",\n",
    ")\n",
    "# plot the models\n",
    "# ax.plot(dm_ru104, dm_ru102, 's--', label='2nd peak i-process (default vs new rates)')\n",
    "\n",
    "# some formatting\n",
    "ax.legend(loc=\"upper left\")\n",
    "ax.set_xlabel(\"$\\\\delta(^{104}\\\\mathrm{Ru}/^{100}\\\\mathrm{Ru})$ (‰)\")\n",
    "ax.set_ylabel(\"$\\\\delta(^{102}\\\\mathrm{Ru}/^{100}\\\\mathrm{Ru})$ (‰)\")\n",
    "\n",
    "plt.show()"
   ]
  },
  {
   "cell_type": "code",
   "execution_count": 6,
   "metadata": {},
   "outputs": [],
   "source": []
  }
 ],
 "metadata": {
  "kernelspec": {
   "display_name": "Python 3 (ipykernel)",
   "language": "python",
   "name": "python3"
  },
  "language_info": {
   "codemirror_mode": {
    "name": "ipython",
    "version": 3
   },
   "file_extension": ".py",
   "mimetype": "text/x-python",
   "name": "python",
   "nbconvert_exporter": "python",
   "pygments_lexer": "ipython3",
   "version": "3.9.5"
  }
 },
 "nbformat": 4,
 "nbformat_minor": 4
}
